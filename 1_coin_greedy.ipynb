{
 "cells": [
  {
   "attachments": {},
   "cell_type": "markdown",
   "metadata": {},
   "source": [
    "# 거스름돈을 가장 적은 갯수로 주는 알고리즘"
   ]
  },
  {
   "cell_type": "code",
   "execution_count": 1,
   "metadata": {},
   "outputs": [
    {
     "name": "stdout",
     "output_type": "stream",
     "text": [
      "해당 화폐를 거슬러 줄 수 있는 동전의 개수: 6\n"
     ]
    }
   ],
   "source": [
    "#초기화\n",
    "money = 1260\n",
    "count = 0\n",
    "\n",
    "# 가지고 있는 화폐단위 리스트\n",
    "coin_types = [500,100,50,10]\n",
    "\n",
    "for coin in coin_types:\n",
    "    count += money // coin # 해당 화폐를 거슬러 줄 수 있는 동전의 개수 세기\n",
    "    money%=coin\n",
    "    \n",
    "print('해당 화폐를 거슬러 줄 수 있는 동전의 개수:',count)\n",
    "    "
   ]
  },
  {
   "cell_type": "code",
   "execution_count": 37,
   "metadata": {},
   "outputs": [
    {
     "data": {
      "text/plain": [
       "'해당 화폐를 거슬러 줄 수 있는 동전의 개수:6'"
      ]
     },
     "execution_count": 37,
     "metadata": {},
     "output_type": "execute_result"
    }
   ],
   "source": [
    "#화폐 단위 리스트가 정렬되어있지 않다면?\n",
    "# 정렬을 하는 기능을 포함한 함수를 만들어야 하나?\n",
    "# 그때 그때 정렬하는것 보단 나을 듯...근데 함수에 넣으면 어차피 그때 그때 정렬해야 하잖아....ㅋㅋ암튼 고\n",
    "\n",
    "#초기화\n",
    "# money = 1260 #이건 매개변수 값에 넣어야 하나\n",
    "\n",
    "def casher(money):\n",
    "    \n",
    "    count = 0\n",
    "\n",
    "    # 가지고 있는 화폐단위 리스트\n",
    "    coin_types = [500,10,50,100]\n",
    "    \n",
    "    coin_types.sort(reverse=True)\n",
    "    \n",
    "    for coin in coin_types:\n",
    "        count += money // coin # 해당 화폐를 거슬러 줄 수 있는 동전의 개수 세기, //는 몫을 뜻 하고 %는 나머지를 뜻 한다\n",
    "        money%=coin\n",
    "    \n",
    "    return f'해당 화폐를 거슬러 줄 수 있는 동전의 개수:{count}'\n",
    "\n",
    "\n",
    "# 함수 실행\n",
    "casher(1260)\n",
    "\n",
    "# 정렬 메소드로 하니까...별 다를게 없구만"
   ]
  },
  {
   "cell_type": "code",
   "execution_count": 34,
   "metadata": {},
   "outputs": [],
   "source": [
    "coin_types = [500,10,50,100]\n",
    "\n",
    "coin_types.sort(reverse=True)\n",
    "\n",
    "# help(coin_types.sort)\n",
    "\n",
    "# 메소드로 리스트 정렬 완 ㅋ 위에꺼 풀고 오겠쏘"
   ]
  },
  {
   "cell_type": "code",
   "execution_count": 39,
   "metadata": {},
   "outputs": [
    {
     "data": {
      "text/plain": [
       "'해당 화폐를 거슬러 줄 수 있는 동전의 개수:6'"
      ]
     },
     "execution_count": 39,
     "metadata": {},
     "output_type": "execute_result"
    }
   ],
   "source": [
    "# 400원짜리 동전이 있다면?\n",
    "\n",
    "def casher2(money):\n",
    "    \n",
    "    count = 0\n",
    "    \n",
    "    coin_types = [500,100,400,10,50]\n",
    "    coin_types.sort(reverse=True)\n",
    "    \n",
    "    for coin in coin_types:\n",
    "        count += money // coin # 해당 화폐를 거슬러 줄 수 있는 동전의 개수 세기, //는 몫을 뜻 하고 %는 나머지를 뜻 한다\n",
    "        money %= coin\n",
    "    \n",
    "    return f'해당 화폐를 거슬러 줄 수 있는 동전의 개수:{count}'\n",
    "\n",
    "\n",
    "# 함수 실행\n",
    "casher(1260)\n",
    "\n",
    "# 아까와 똑같이 6개가 나오지만 사실 400원짜리 3개와 50원 1개 10원 한개 총 5개가 있으면 완성된다. 틀린 답\n",
    "# 그럼 어떻게 해결 할까?"
   ]
  },
  {
   "cell_type": "code",
   "execution_count": 2,
   "metadata": {},
   "outputs": [
    {
     "name": "stdout",
     "output_type": "stream",
     "text": [
      "5\n"
     ]
    }
   ],
   "source": [
    "# 존나 어려움 ㅅㅂ\n",
    "\n",
    "def coin_change(coins, amount):\n",
    "    # 코인의 종류별로 필요한 최소 코인 개수를 저장하기 위한 리스트\n",
    "    dp = [float('inf')] * (amount + 1)\n",
    "    \n",
    "    # 0원을 거슬러주기 위한 최소 코인 개수는 0\n",
    "    dp[0] = 0\n",
    "    \n",
    "    for coin in coins:\n",
    "        for i in range(coin, amount + 1):\n",
    "            dp[i] = min(dp[i], dp[i - coin] + 1)\n",
    "    \n",
    "    # 거슬러줄 수 없는 경우 -1 반환\n",
    "    if dp[amount] == float('inf'):\n",
    "        return -1\n",
    "    \n",
    "    # 필요한 최소 코인 개수 반환\n",
    "    return dp[amount]\n",
    "    \n",
    "# 동전의 종류와 거슬러줄 금액 입력\n",
    "coins = [500, 400, 100, 50, 10]\n",
    "amount = 1260\n",
    "\n",
    "# 결과 출력\n",
    "print(coin_change(coins, amount))\n"
   ]
  },
  {
   "attachments": {},
   "cell_type": "markdown",
   "metadata": {},
   "source": [
    "#### 이 코드는 동적프로그래밍의 개념을 활용하여 구현했습니다\n",
    "동적 프로그래밍(Dynamic Programming)은 큰 문제를 작은 하위 문제로 나누어 해결하는 알고리즘 설계 기법입니다. \n",
    "중복되는 하위 문제들을 한 번만 계산하고 그 결과를 재활용하여 실행 속도를 향상시킵니다.\n",
    "\n",
    "동전 거슬러주기 문제에서 동적 프로그래밍은 중복 계산을 피하기 위해 사용됩니다. \n",
    "예를 들어, 1260원을 거슬러주기 위한 최소 코인 개수를 구하는 문제를 생각해봅시다.\n",
    "\n",
    "처음에는 1원부터 1260원까지 각각의 금액을 거슬러주기 위한 최소 코인 개수를 구하려고 할 수 있습니다. \n",
    "그러나 이렇게 하면 동일한 금액에 대해 반복적으로 계산을 수행하게 됩니다. \n",
    "예를 들어, 500원을 거슬러주기 위한 최소 코인 개수를 계산할 때 400원이 필요한 경우, \n",
    "400원을 거슬러주기 위한 최소 코인 개수를 계산하려고 할 때 다시 500원을 거슬러주기 위한 최소 코인 개수를 계산하게 됩니다.\n",
    "\n",
    "동적 프로그래밍은 이런 중복 계산을 피하기 위해 메모이제이션(Memoization)이라는 기법을 사용합니다. \n",
    "메모이제이션은 계산된 결과를 저장해두고 나중에 동일한 계산이 필요할 때 저장된 결과를 사용하는 것을 의미합니다.\n",
    "\n",
    "위의 예시 코드에서도 동적 프로그래밍 기법을 사용했습니다. 최소 코인 개수를 저장하기 위한 dp 리스트를 생성하고, \n",
    "작은 금액부터 큰 금액까지 순차적으로 최소 코인 개수를 계산하면서 저장해나갑니다. \n",
    "이때, 이미 계산된 하위 문제들의 결과를 활용하여 중복 계산을 피하고, 필요한 값만 계산하여 저장합니다.\n",
    "\n",
    "동적 프로그래밍은 큰 문제를 작은 하위 문제로 나누어 해결하는 분할 정복(Divide and Conquer) 방식과 비슷한 개념을 가지고 있습니다. \n",
    "그러나 동적 프로그래밍은 하위 문제들의 결과를 저장하고 재활용함으로써 중복 계산을 효율적으로 피하는 특징을 가지고 있습니다. \n",
    "이를 통해 시간 복잡도를 획기적으로 개선할 수 있습니다."
   ]
  },
  {
   "cell_type": "code",
   "execution_count": null,
   "metadata": {},
   "outputs": [],
   "source": []
  }
 ],
 "metadata": {
  "kernelspec": {
   "display_name": "base",
   "language": "python",
   "name": "python3"
  },
  "language_info": {
   "codemirror_mode": {
    "name": "ipython",
    "version": 3
   },
   "file_extension": ".py",
   "mimetype": "text/x-python",
   "name": "python",
   "nbconvert_exporter": "python",
   "pygments_lexer": "ipython3",
   "version": "3.9.13"
  },
  "orig_nbformat": 4
 },
 "nbformat": 4,
 "nbformat_minor": 2
}
