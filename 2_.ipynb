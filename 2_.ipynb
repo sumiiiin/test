{
 "cells": [
  {
   "attachments": {},
   "cell_type": "markdown",
   "metadata": {},
   "source": [
    "## 큰 수의 법칙\n",
    "배열의 크기 n, 숫자가 더해지는 횟수 m, 같은 위치의 숫자는 k번을 초과하여 더 할 수 없을 때 \n",
    "\n",
    "큰 수를 만드는 법칙을 만들어라"
   ]
  },
  {
   "cell_type": "code",
   "execution_count": 2,
   "metadata": {},
   "outputs": [
    {
     "name": "stdout",
     "output_type": "stream",
     "text": [
      "16\n"
     ]
    }
   ],
   "source": [
    "# 답안\n",
    "\n",
    "# N, M, K를 공백으로 구분하여 입력받기.\n",
    "n, m, k = map(int, input().split())\n",
    "\n",
    "# N개의수를 공백으로 구분하여 입력받기\n",
    "data = list(map(int, input().split()))\n",
    "\n",
    "data.sort() # 입력받은 수들 정렬하기\n",
    "first = data[n - 1] # 가장 큰 수\n",
    "second = data[n - 2] # 두 번째로 큰 수\n",
    "\n",
    "result = 0\n",
    "while True:\n",
    "    for i in range(k): # 가장 큰 수를 k번 더하기\n",
    "        if m == 0: # m이 0이라면 반복문 탈출\n",
    "            break\n",
    "        result += first\n",
    "        m -= 1 # 더할 때마다 1씩 빼기\n",
    "    if m == 0: # m이 0이라면 반복문 탈출\n",
    "        break\n",
    "    result += second # 두 번째로 큰 수를 한 번 더하기\n",
    "    m -= 1 # 더할 때 마다 1씩 빼기\n",
    "    \n",
    "print(result) # 최종 답안 출력"
   ]
  },
  {
   "cell_type": "code",
   "execution_count": 1,
   "metadata": {},
   "outputs": [
    {
     "name": "stdout",
     "output_type": "stream",
     "text": [
      "55\n"
     ]
    }
   ],
   "source": [
    "# 연속되는 숫자 더하기 구하는 로직 \n",
    "\n",
    "def suum(n):\n",
    "    s = 0\n",
    "    for i in range(n+1):\n",
    "        s = s + i\n",
    "    print(s)\n",
    "    \n",
    "suum(10)"
   ]
  },
  {
   "cell_type": "code",
   "execution_count": 2,
   "metadata": {},
   "outputs": [
    {
     "name": "stdout",
     "output_type": "stream",
     "text": [
      "[2, 11, 20, 24, 34, 43]\n",
      "함수의 반환값: None\n"
     ]
    }
   ],
   "source": [
    "import random\n",
    "\n",
    "def generate_lotto_numbers():\n",
    "    lotto_numbers = random.sample(range(1, 46), 6)\n",
    "    print(sorted(lotto_numbers))\n",
    "\n",
    "result = generate_lotto_numbers()\n",
    "print(\"함수의 반환값:\", result)\n"
   ]
  },
  {
   "cell_type": "code",
   "execution_count": 3,
   "metadata": {},
   "outputs": [
    {
     "name": "stdout",
     "output_type": "stream",
     "text": [
      "로또 추천 번호: [1, 7, 8, 9, 23, 27]\n"
     ]
    }
   ],
   "source": [
    "import random\n",
    "\n",
    "def generate_lotto_numbers():\n",
    "    lotto_numbers = random.sample(range(1, 46), 6)\n",
    "    return sorted(lotto_numbers)\n",
    "\n",
    "recommended_numbers = generate_lotto_numbers()\n",
    "print(\"로또 추천 번호:\", recommended_numbers)\n"
   ]
  },
  {
   "attachments": {},
   "cell_type": "markdown",
   "metadata": {},
   "source": [
    "## 리스트에서 최대값 구하는 알고리즘\n",
    "\n",
    "리스트 a가 있고 매개변수로 받는다\n",
    "리스트의 길이를 n에 저장한다. (초기화 개념)\n",
    "a[0]은 max값이라고 지정하고 시작한다 (초기화 개념)\n",
    "for문을 돌려 a[0]과 a[i]랑 비교를 해서 큰 수가 나오면 max값을 갱신한다\n",
    "for문이 다 돌아가면 최대값이 나온다.\n"
   ]
  },
  {
   "cell_type": "code",
   "execution_count": 1,
   "metadata": {},
   "outputs": [],
   "source": [
    "# 최대값 구하는 알고리즘\n",
    "\n",
    "\n",
    "def max_num(a):\n",
    "    n = len(a)\n",
    "    maxnum = a[0]\n",
    "\n",
    "    for i in range(n):\n",
    "        if a[i] > maxnum:\n",
    "            maxnum = a[i]\n",
    "    return maxnum"
   ]
  },
  {
   "cell_type": "code",
   "execution_count": 2,
   "metadata": {},
   "outputs": [
    {
     "data": {
      "text/plain": [
       "8"
      ]
     },
     "execution_count": 2,
     "metadata": {},
     "output_type": "execute_result"
    }
   ],
   "source": [
    "a = [3,8,4,6,7,2,4]\n",
    "\n",
    "max_num(a)"
   ]
  },
  {
   "attachments": {},
   "cell_type": "markdown",
   "metadata": {},
   "source": [
    "## 동명이인 찾아내기\n",
    "\n",
    "이름 리스트에서 중복된 이름이 있으면 그 이름을 반환\n",
    "\n",
    "입력 : 이름 리스트\n",
    "출력 : 동명이인의 이름 집합\n",
    "\n",
    "계획\n",
    "\n",
    "첫 번째 이름과 그 다음의 이름들을 비교 \n",
    "두 번째 이름과 그 다음의 이름들을 비교\n",
    "\n",
    "일치하면 집합으로 반환"
   ]
  },
  {
   "cell_type": "code",
   "execution_count": 10,
   "metadata": {},
   "outputs": [
    {
     "data": {
      "text/plain": [
       "{'이후'}"
      ]
     },
     "execution_count": 10,
     "metadata": {},
     "output_type": "execute_result"
    }
   ],
   "source": [
    "name = [\"수연\", \"이후\", \"려원\", \"리아\", \"봄소리\", \"정연\", \"이후\"]\n",
    "\n",
    "def same_name(a):\n",
    "    \n",
    "    s =set() # 이거 왜 했더랑..집합은 같은 요소가 있을 수 없고 요소의 순서는 상관 없다. 근데 왜 쓰지\n",
    "    n = len(a)\n",
    "    for i in range(n):\n",
    "        for j in range(i+1,n):\n",
    "            if a[i] == a[j]:\n",
    "                s.add(a[i])\n",
    "    \n",
    "    return s\n",
    "\n",
    "same_name(name)\n",
    "                "
   ]
  },
  {
   "attachments": {},
   "cell_type": "markdown",
   "metadata": {},
   "source": [
    "Quiz 당신은 최근 코딩스터디 모임을 만들었습니다.\n",
    "월 4회 스터디를 하는데 3번은 온라인으로 하고 1번은 오프라인으로 하기로 했습니다.\n",
    "아래 조건에 맞는 오프라인 모임 날짜를 정해주는 프로그램을 작성하시오.\n",
    "\n",
    "조건1 : 랜덤으로 날짜를 뽑아야 함\n",
    "조건2 : 월별 날짜는 다름을 감안하여 최소 일수인 28 이내로 함\n",
    "조건3 : 매월 1~3일은 스터디 준비를 해야하므로 제외\n",
    "\n",
    "출력문예제\n",
    "오프라인 스터디 모임 날짜는 매월 x 일로 선정되었습니다."
   ]
  },
  {
   "cell_type": "code",
   "execution_count": 12,
   "metadata": {},
   "outputs": [
    {
     "name": "stdout",
     "output_type": "stream",
     "text": [
      "오프라인 스터디 모임 날짜는 매월 15일로 선정되었습니다.\n"
     ]
    }
   ],
   "source": [
    "import random\n",
    "\n",
    "day = random.randint(4,28)\n",
    "print(\"오프라인 스터디 모임 날짜는 매월 \"+ str(day)+\"일로 선정되었습니다.\")"
   ]
  },
  {
   "attachments": {},
   "cell_type": "markdown",
   "metadata": {},
   "source": [
    "랜덤으로 수를 뽑고 "
   ]
  },
  {
   "cell_type": "markdown",
   "metadata": {},
   "source": [
    "n명 중 2명을 뽑아 짝을 짓는다고 할 때 짝을 지을 수 있는 모든 경우의 수 \n",
    "\n",
    "입력 : n개의 이름 리스트, ex [려원, 수연, 이후]\n",
    "출력 : 려원 - 수연, 려원 - 이후, 수연 - 이후"
   ]
  },
  {
   "cell_type": "code",
   "execution_count": 24,
   "metadata": {},
   "outputs": [
    {
     "ename": "AttributeError",
     "evalue": "'list' object has no attribute 'add'",
     "output_type": "error",
     "traceback": [
      "\u001b[1;31m---------------------------------------------------------------------------\u001b[0m",
      "\u001b[1;31mAttributeError\u001b[0m                            Traceback (most recent call last)",
      "\u001b[1;32m~\\AppData\\Local\\Temp\\ipykernel_31092\\253338416.py\u001b[0m in \u001b[0;36m<module>\u001b[1;34m\u001b[0m\n\u001b[0;32m      3\u001b[0m \u001b[0ma\u001b[0m \u001b[1;33m=\u001b[0m \u001b[1;33m[\u001b[0m\u001b[1;33m]\u001b[0m\u001b[1;33m\u001b[0m\u001b[1;33m\u001b[0m\u001b[0m\n\u001b[0;32m      4\u001b[0m \u001b[1;32mfor\u001b[0m \u001b[0mi\u001b[0m \u001b[1;32min\u001b[0m \u001b[0mrange\u001b[0m\u001b[1;33m(\u001b[0m\u001b[1;36m1\u001b[0m\u001b[1;33m,\u001b[0m\u001b[0mn\u001b[0m\u001b[1;33m)\u001b[0m\u001b[1;33m:\u001b[0m\u001b[1;33m\u001b[0m\u001b[1;33m\u001b[0m\u001b[0m\n\u001b[1;32m----> 5\u001b[1;33m     \u001b[0ma\u001b[0m\u001b[1;33m.\u001b[0m\u001b[0madd\u001b[0m\u001b[1;33m(\u001b[0m\u001b[0mname\u001b[0m\u001b[1;33m[\u001b[0m\u001b[1;36m0\u001b[0m\u001b[1;33m]\u001b[0m \u001b[1;33m+\u001b[0m \u001b[0mname\u001b[0m\u001b[1;33m[\u001b[0m\u001b[0mi\u001b[0m\u001b[1;33m]\u001b[0m\u001b[1;33m)\u001b[0m\u001b[1;33m\u001b[0m\u001b[1;33m\u001b[0m\u001b[0m\n\u001b[0m\u001b[0;32m      6\u001b[0m     \u001b[0mprint\u001b[0m\u001b[1;33m(\u001b[0m\u001b[0ma\u001b[0m\u001b[1;33m)\u001b[0m\u001b[1;33m\u001b[0m\u001b[1;33m\u001b[0m\u001b[0m\n\u001b[0;32m      7\u001b[0m \u001b[1;33m\u001b[0m\u001b[0m\n",
      "\u001b[1;31mAttributeError\u001b[0m: 'list' object has no attribute 'add'"
     ]
    }
   ],
   "source": [
    "name = [\"려원\", \"수연\", \"이후\", \"리아\", \"현선\", \"여은\", \"제밍\", \"융\"]\n",
    "n = len(name)\n",
    "a = []\n",
    "for i in range(1,n):\n",
    "    a += name[0] + name[i]\n",
    "    print(a)\n",
    "    \n",
    "    \n",
    "\n"
   ]
  },
  {
   "cell_type": "code",
   "execution_count": 22,
   "metadata": {},
   "outputs": [
    {
     "data": {
      "text/plain": [
       "[1, 2, 3, 4, 5, 6]"
      ]
     },
     "execution_count": 22,
     "metadata": {},
     "output_type": "execute_result"
    }
   ],
   "source": [
    "a = []\n",
    "a += range(1,7)\n",
    "a"
   ]
  },
  {
   "cell_type": "code",
   "execution_count": null,
   "metadata": {},
   "outputs": [],
   "source": []
  }
 ],
 "metadata": {
  "kernelspec": {
   "display_name": "base",
   "language": "python",
   "name": "python3"
  },
  "language_info": {
   "codemirror_mode": {
    "name": "ipython",
    "version": 3
   },
   "file_extension": ".py",
   "mimetype": "text/x-python",
   "name": "python",
   "nbconvert_exporter": "python",
   "pygments_lexer": "ipython3",
   "version": "3.9.13"
  },
  "orig_nbformat": 4
 },
 "nbformat": 4,
 "nbformat_minor": 2
}
