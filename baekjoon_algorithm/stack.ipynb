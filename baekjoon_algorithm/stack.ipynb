{
 "cells": [
  {
   "attachments": {},
   "cell_type": "markdown",
   "metadata": {},
   "source": [
    "정수를 저장하는 스택을 구현한 다음, 입력으로 주어지는 명령을 처리하는 프로그램을 작성하시오.\n",
    "\n",
    "명령은 총 다섯 가지이다.\n",
    "\n",
    "- push X: 정수 X를 스택에 넣는 연산이다.\n",
    "- pop: 스택에서 가장 위에 있는 정수를 빼고, 그 수를 출력한다. 만약 스택에 들어있는 정수가 없는 경우에는 -1을 출력한다.\n",
    "- size: 스택에 들어있는 정수의 개수를 출력한다.\n",
    "- empty: 스택이 비어있으면 1, 아니면 0을 출력한다.\n",
    "- top: 스택의 가장 위에 있는 정수를 출력한다. 만약 스택에 들어있는 정수가 없는 경우에는 -1을 출력한다.\n",
    "\n",
    "첫째 줄에 주어지는 명령의 수 N (1 ≤ N ≤ 10,000)이 주어진다. 둘째 줄부터 N개의 줄에는 명령이 하나씩 주어진다. 주어지는 정수는 1보다 크거나 같고, 100,000보다 작거나 같다. 문제에 나와있지 않은 명령이 주어지는 경우는 없다.\n",
    "\n",
    "출력해야하는 명령이 주어질 때마다, 한 줄에 하나씩 출력한다."
   ]
  },
  {
   "cell_type": "code",
   "execution_count": null,
   "metadata": {},
   "outputs": [],
   "source": [
    "l = []\n",
    "import sys\n",
    "input = int(sys.stdin.readline())\n",
    "# from six.moves import input as raw_input\n",
    "def stack():\n",
    "    n = input()\n",
    "    for _ in range(n):\n",
    "        a = str(input)\n",
    "        ab = a.split(\" \")\n",
    "        \n",
    "        if len(ab) > 1:\n",
    "            c = int(ab[1])\n",
    "            l.append(c)\n",
    "            \n",
    "        if len(ab) == 1:\n",
    "            if ab[0] == \"pop\":\n",
    "                if len(l) == 0:\n",
    "                    print(-1)\n",
    "                else:\n",
    "                    l.pop()\n",
    "       \n",
    "        if len(ab) == 1:        \n",
    "            if ab[0] == \"size\":\n",
    "                print(len(l))\n",
    "                \n",
    "        if len(ab) == 1:      \n",
    "            if ab[0] == \"empty\":\n",
    "                if len(l) == 0:\n",
    "                    print(1)\n",
    "                else:\n",
    "                    print(0)\n",
    "        if len(ab) == 1:         \n",
    "            if ab[0] == \"top\":\n",
    "                if len(l) == 0:\n",
    "                    print(-1)\n",
    "                else:\n",
    "                    print(l[0])\n",
    "                    \n",
    "# 틀렸다는데 뭐가 틀렸다는 건지...1. 일단 pop 틀렸었음 빈 리스트에 pop하면 오류떠서 빈리스트인지 확인하는 조건문 추가함!\n",
    "# --- 드디어 런타임 에러뜬다. 그럼 식은 맞는건가? 그치만 raw_input으로는 안되는군 sys어쩌구를 써야하는데 \n",
    "# 다른 답 보면 각 기능을 함수화 했던데 그렇게도 해봐야겠다.\n",
    "# input 말고 raw_input이랑 sys.stdin.readline이 처리속도가 더 빠르다는데 난 왜 안될까? 무한 로딩임 ipynb라 그런가?\n",
    "# 남의 답도 내 컴퓨터에선 무한 로딩이다.            "
   ]
  },
  {
   "cell_type": "code",
   "execution_count": 25,
   "metadata": {},
   "outputs": [
    {
     "name": "stdout",
     "output_type": "stream",
     "text": [
      "-1\n",
      "0\n"
     ]
    }
   ],
   "source": [
    "stack()"
   ]
  },
  {
   "cell_type": "code",
   "execution_count": 1,
   "metadata": {},
   "outputs": [],
   "source": [
    "# 남의 답\n",
    "\n",
    "import sys\n",
    "n = int(sys.stdin.readline())\n",
    "\n",
    "stack=[]\n",
    "for i in range(n):\n",
    "    command = sys.stdin.readline().split()\n",
    "\n",
    "    if command[0]=='push':\n",
    "        stack.append(command[1])\n",
    "    elif command[0]=='pop':\n",
    "        if len(stack)==0:\n",
    "            print(-1)\n",
    "        else:\n",
    "            print(stack.pop())\n",
    "    elif command[0] == 'size':\n",
    "        print(len(stack))\n",
    "    elif command[0] == 'empty':\n",
    "        if len(stack)==0:\n",
    "            print(1)\n",
    "        else:\n",
    "            print(0)\n",
    "    elif command[0] == 'top':\n",
    "        if len(stack)==0:\n",
    "            print(-1)\n",
    "        else:\n",
    "            print(stack[-1])"
   ]
  },
  {
   "cell_type": "code",
   "execution_count": 1,
   "metadata": {},
   "outputs": [
    {
     "name": "stdout",
     "output_type": "stream",
     "text": [
      "hello world\n"
     ]
    }
   ],
   "source": [
    "print(\"hello world\")"
   ]
  },
  {
   "cell_type": "code",
   "execution_count": 21,
   "metadata": {},
   "outputs": [
    {
     "name": "stdout",
     "output_type": "stream",
     "text": [
      "-1\n"
     ]
    }
   ],
   "source": [
    "my_list = []\n",
    "\n",
    "if my_list:\n",
    "    element = my_list.pop()\n",
    "else:\n",
    "    element = -1\n",
    "\n",
    "print(element)\n"
   ]
  },
  {
   "cell_type": "code",
   "execution_count": null,
   "metadata": {},
   "outputs": [],
   "source": []
  }
 ],
 "metadata": {
  "kernelspec": {
   "display_name": "base",
   "language": "python",
   "name": "python3"
  },
  "language_info": {
   "codemirror_mode": {
    "name": "ipython",
    "version": 3
   },
   "file_extension": ".py",
   "mimetype": "text/x-python",
   "name": "python",
   "nbconvert_exporter": "python",
   "pygments_lexer": "ipython3",
   "version": "3.9.13"
  },
  "orig_nbformat": 4
 },
 "nbformat": 4,
 "nbformat_minor": 2
}
