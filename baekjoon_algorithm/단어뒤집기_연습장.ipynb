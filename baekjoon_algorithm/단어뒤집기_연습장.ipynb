{
 "cells": [
  {
   "cell_type": "code",
   "execution_count": 1,
   "metadata": {},
   "outputs": [
    {
     "name": "stdout",
     "output_type": "stream",
     "text": [
      "['We', 'want', 'to', 'win', 'the', 'first', 'prize']\n"
     ]
    }
   ],
   "source": [
    "a = 'We want to win the first prize'\n",
    "\n",
    "b = a.split()\n",
    "print(b)"
   ]
  },
  {
   "cell_type": "code",
   "execution_count": 2,
   "metadata": {},
   "outputs": [
    {
     "name": "stdout",
     "output_type": "stream",
     "text": [
      "['W', 'e']\n"
     ]
    }
   ],
   "source": [
    "c = b[0]\n",
    "d = list(c) # 리스트 함수를 쓰면 하나씩 구분되는데 기런 용도인가?\n",
    "print(d)"
   ]
  },
  {
   "cell_type": "code",
   "execution_count": 3,
   "metadata": {},
   "outputs": [
    {
     "data": {
      "text/plain": [
       "['a', 'b', 'c', 'd', 'e', 'f']"
      ]
     },
     "execution_count": 3,
     "metadata": {},
     "output_type": "execute_result"
    }
   ],
   "source": [
    "w = ['a', 'b', 'c', 'd','e','f']\n",
    "q = list(\"abcdef\")\n",
    "# w=q\n",
    "w[-1] == q[0]\n",
    "w[-2] == q[1]\n",
    "w[-3] == q[2]\n",
    "w[-4] == q[3]\n",
    "w[-5] == q[4]\n",
    "w[-6] == q[5]\n",
    "\n",
    "w"
   ]
  },
  {
   "cell_type": "code",
   "execution_count": 4,
   "metadata": {},
   "outputs": [
    {
     "data": {
      "text/plain": [
       "'dcba'"
      ]
     },
     "execution_count": 4,
     "metadata": {},
     "output_type": "execute_result"
    }
   ],
   "source": [
    "w = ['a', 'b', 'c', 'd']\n",
    "q = []\n",
    "\n",
    "q.append(w[-1])\n",
    "q.append(w[-2])\n",
    "q.append(w[-3])\n",
    "q.append(w[-4])\n",
    "q = \"\".join(q)\n",
    "q\n"
   ]
  },
  {
   "cell_type": "code",
   "execution_count": 5,
   "metadata": {},
   "outputs": [
    {
     "data": {
      "text/plain": [
       "['d', 'c', 'b', 'a']"
      ]
     },
     "execution_count": 5,
     "metadata": {},
     "output_type": "execute_result"
    }
   ],
   "source": [
    "w[0],w[1],w[2],w[3] = w[3],w[2],w[1],w[0]\n",
    "w"
   ]
  },
  {
   "cell_type": "code",
   "execution_count": 6,
   "metadata": {},
   "outputs": [
    {
     "data": {
      "text/plain": [
       "['dcba', 'c', 'b', 'a']"
      ]
     },
     "execution_count": 6,
     "metadata": {},
     "output_type": "execute_result"
    }
   ],
   "source": [
    "w[0] = q\n",
    "w\n"
   ]
  },
  {
   "cell_type": "code",
   "execution_count": 30,
   "metadata": {},
   "outputs": [
    {
     "name": "stdout",
     "output_type": "stream",
     "text": [
      "['i am happy', 'i am sad']\n"
     ]
    }
   ],
   "source": [
    "n = int(input(\"문장의 갯수 정해\"))\n",
    "# a = 0 없어도 됨\n",
    "b = []\n",
    "for _ in range(n):\n",
    "    a = input(\"문장 줘\")\n",
    "    # b = b.append(a) \n",
    "    # (처음 썼던 코드 매서드는 값을 반환하려고 하면 none이 떠서 AttributeError: 'NoneType' object has no attribute 'append' 오류가 났다.)\n",
    "    b.append(a)\n",
    "    \n",
    "    \n",
    "print(b)"
   ]
  },
  {
   "cell_type": "code",
   "execution_count": 9,
   "metadata": {},
   "outputs": [
    {
     "ename": "IndexError",
     "evalue": "list index out of range",
     "output_type": "error",
     "traceback": [
      "\u001b[1;31m---------------------------------------------------------------------------\u001b[0m",
      "\u001b[1;31mIndexError\u001b[0m                                Traceback (most recent call last)",
      "\u001b[1;32m~\\AppData\\Local\\Temp\\ipykernel_3980\\2430990296.py\u001b[0m in \u001b[0;36m<module>\u001b[1;34m\u001b[0m\n\u001b[0;32m     42\u001b[0m \u001b[1;32mfor\u001b[0m \u001b[0mi\u001b[0m \u001b[1;32min\u001b[0m \u001b[0mrange\u001b[0m\u001b[1;33m(\u001b[0m\u001b[0mn\u001b[0m\u001b[1;33m)\u001b[0m\u001b[1;33m:\u001b[0m\u001b[1;33m\u001b[0m\u001b[1;33m\u001b[0m\u001b[0m\n\u001b[0;32m     43\u001b[0m     \u001b[1;32mfor\u001b[0m \u001b[0ml\u001b[0m \u001b[1;32min\u001b[0m \u001b[0mrange\u001b[0m\u001b[1;33m(\u001b[0m\u001b[0me\u001b[0m\u001b[1;33m[\u001b[0m\u001b[0mi\u001b[0m\u001b[1;33m]\u001b[0m\u001b[1;33m)\u001b[0m\u001b[1;33m:\u001b[0m\u001b[1;33m\u001b[0m\u001b[1;33m\u001b[0m\u001b[0m\n\u001b[1;32m---> 44\u001b[1;33m         \u001b[0mx\u001b[0m \u001b[1;33m=\u001b[0m \u001b[0mg\u001b[0m\u001b[1;33m[\u001b[0m\u001b[0mi\u001b[0m\u001b[1;33m]\u001b[0m\u001b[1;33m[\u001b[0m\u001b[0me\u001b[0m\u001b[1;33m[\u001b[0m\u001b[0ml\u001b[0m\u001b[1;33m]\u001b[0m\u001b[1;33m]\u001b[0m \u001b[1;31m# 오류ㅡㅜ\u001b[0m\u001b[1;33m\u001b[0m\u001b[1;33m\u001b[0m\u001b[0m\n\u001b[0m\u001b[0;32m     45\u001b[0m \u001b[1;33m\u001b[0m\u001b[0m\n\u001b[0;32m     46\u001b[0m \u001b[1;31m# i = 0,1 l = 0,1,2,3\u001b[0m\u001b[1;33m\u001b[0m\u001b[1;33m\u001b[0m\u001b[0m\n",
      "\u001b[1;31mIndexError\u001b[0m: list index out of range"
     ]
    }
   ],
   "source": [
    "n = int(input(\"문장의 갯수 정해\"))\n",
    "b = []\n",
    "for _ in range(n):\n",
    "    a = input(\"문장 줘\")\n",
    "    b.append(a) #하나의 리스트에 n개의 문장이 담김\n",
    "    \n",
    "c = []\n",
    "for i in range(n):\n",
    "    c.append(b[i].split()) \n",
    "    # 하나의 리스트에 두개의 리스트가 담김 단어들은 구분됨 ex.[['i', 'am', 'happy'], ['i', 'am', 'sad']]\n",
    "    \n",
    "d = []   \n",
    "for i in range(n):\n",
    "    q = len(c[i])\n",
    "    for l in range(q):\n",
    "        d.append(list(c[i][l]))\n",
    "        # 각 알파벳이 다 나뉨 ex([['i'], ['a', 'm'], ['a', 'n', 'g', 'r', 'y'], ['i'], ['a', 'm'], ['h', 'a', 'p', 'p', 'y']])\n",
    "e = []    \n",
    "for i in range(n):\n",
    "    q = len(c[i])\n",
    "    e.append(q)\n",
    "    # 각 문장의 단어의 갯수를 리스트에 넣음 ex.[3,3]\n",
    "    \n",
    "f = [] \n",
    "total = 0\n",
    "for i in e:\n",
    "    total += i\n",
    "    f.append(total)\n",
    "    # 각 문장의 단어의 갯수를 순서대로 합침\n",
    "    \n",
    "f.insert(0,0) # 문장의 단어 리스트 맨 앞에 0을 붙임\n",
    "    \n",
    "g = []\n",
    "z = len(f)\n",
    "for i in range(z):\n",
    "    y = i+1\n",
    "    if z>y: # y가 z보다 크니까 더 못 크게 막아 둠\n",
    "        g.append(d[f[i]:f[y]])\n",
    "        # 문장의 알파벳을 드디어 나눔 ex. [[['i'], ['a', 'm'], ['s', 'o'], ['h', 'a', 'p', 'p', 'y']], [['i'], ['a', 'm'], ['s', 'a', 'd']]]\n",
    "\n",
    "# g[range n][range[e[i]]\n",
    "for i in range(n):\n",
    "    for l in range(e[i]):\n",
    "        x = g[i][e[l]] # 오류ㅡㅜ\n",
    "\n",
    "# i = 0,1 l = 0,1,2,3\n",
    "# 00,01,02,03,1\n",
    "# gpt가 내 똥코드 다 고쳐버림...흑 꺼져 ㅜ 내가 열심히 싼건데...\n",
    "\n",
    "\n",
    "\n",
    "\n",
    "print(x)\n",
    "# print(n)"
   ]
  },
  {
   "attachments": {},
   "cell_type": "markdown",
   "metadata": {},
   "source": [
    "주어진 코드에서 발생하는 `IndexError: list index out of range` 오류는 `g` 리스트에서 인덱스를 잘못 사용했기 때문입니다. 오류가 발생하는 부분은 다음 코드입니다:\n",
    "\n",
    "```python\n",
    "for i in range(n):\n",
    "    for l in range(e[i]):\n",
    "        x = g[i][e[l]]  # 오류 발생\n",
    "```\n",
    "\n",
    "여기서 `g[i]`는 `g` 리스트의 i번째 문장을 나타내고, `e[l]`은 l번째 단어의 갯수를 나타냅니다. 그러나 `g[i]`의 인덱스 범위를 벗어나는 인덱스 `e[l]`을 사용하고 있습니다.\n",
    "\n",
    "만약 여러 문장에서 여러 단어를 하나의 리스트에 모두 저장하려면, 루프를 사용하여 `g` 리스트를 펼쳐놓고 인덱스를 사용하는 것이 더 효율적일 수 있습니다. 다음은 코드를 수정한 예시입니다:\n",
    "\n",
    "```python\n",
    "n = int(input(\"문장의 갯수 정해\"))\n",
    "b = []\n",
    "for _ in range(n):\n",
    "    a = input(\"문장 줘\")\n",
    "    b.append(a.split())  # 단어로 분리하여 리스트에 추가\n",
    "\n",
    "d = []\n",
    "for sentence in b:\n",
    "    for word in sentence:\n",
    "        d.append(list(word))  # 단어를 알파벳 단위로 나누어 리스트에 추가\n",
    "\n",
    "e = [len(sentence) for sentence in b]  # 각 문장의 단어 갯수 리스트\n",
    "\n",
    "f = [0] + list(itertools.accumulate(e))  # 누적된 단어 갯수 리스트\n",
    "\n",
    "g = [d[f[i]:f[i+1]] for i in range(n)]  # 문장을 알파벳으로 나눈 리스트\n",
    "\n",
    "# 테스트용 출력\n",
    "for sentence in g:\n",
    "    print(sentence)\n",
    "```\n",
    "\n",
    "이 코드는 각 문장에서 단어를 분리하고, 단어를 알파벳 단위로 나누어 2차원 리스트에 저장합니다. `itertools.accumulate()` 함수를 사용하여 누적된 단어 갯수를 계산하고, 그를 이용하여 문장을 알파벳 단위로 나눈 리스트를 생성합니다. 이렇게 하면 인덱스를 사용하는 과정이 간소화됩니다."
   ]
  },
  {
   "cell_type": "code",
   "execution_count": 34,
   "metadata": {},
   "outputs": [
    {
     "name": "stdout",
     "output_type": "stream",
     "text": [
      "[['i', 'am', 'happy'], ['i', 'am', 'sad']]\n"
     ]
    }
   ],
   "source": [
    "b = ['i am happy', 'i am sad']\n",
    "n = 2\n",
    "c = []\n",
    "\n",
    "for i in range(n):\n",
    "    c.append(b[i].split())\n",
    "\n",
    "print(c)\n"
   ]
  },
  {
   "cell_type": "code",
   "execution_count": 36,
   "metadata": {},
   "outputs": [
    {
     "data": {
      "text/plain": [
       "2"
      ]
     },
     "execution_count": 36,
     "metadata": {},
     "output_type": "execute_result"
    }
   ],
   "source": [
    "len(c[0])"
   ]
  },
  {
   "cell_type": "code",
   "execution_count": null,
   "metadata": {},
   "outputs": [],
   "source": []
  }
 ],
 "metadata": {
  "kernelspec": {
   "display_name": "base",
   "language": "python",
   "name": "python3"
  },
  "language_info": {
   "codemirror_mode": {
    "name": "ipython",
    "version": 3
   },
   "file_extension": ".py",
   "mimetype": "text/x-python",
   "name": "python",
   "nbconvert_exporter": "python",
   "pygments_lexer": "ipython3",
   "version": "3.9.13"
  },
  "orig_nbformat": 4
 },
 "nbformat": 4,
 "nbformat_minor": 2
}
