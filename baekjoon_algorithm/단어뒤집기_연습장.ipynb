{
 "cells": [
  {
   "cell_type": "code",
   "execution_count": 1,
   "metadata": {},
   "outputs": [
    {
     "name": "stdout",
     "output_type": "stream",
     "text": [
      "['We', 'want', 'to', 'win', 'the', 'first', 'prize']\n"
     ]
    }
   ],
   "source": [
    "a = 'We want to win the first prize'\n",
    "\n",
    "b = a.split()\n",
    "print(b)"
   ]
  },
  {
   "cell_type": "code",
   "execution_count": 2,
   "metadata": {},
   "outputs": [
    {
     "name": "stdout",
     "output_type": "stream",
     "text": [
      "['W', 'e']\n"
     ]
    }
   ],
   "source": [
    "c = b[0]\n",
    "d = list(c) # 리스트 함수를 쓰면 하나씩 구분되는데 기런 용도인가?\n",
    "print(d)"
   ]
  },
  {
   "cell_type": "code",
   "execution_count": 3,
   "metadata": {},
   "outputs": [
    {
     "data": {
      "text/plain": [
       "['a', 'b', 'c', 'd', 'e', 'f']"
      ]
     },
     "execution_count": 3,
     "metadata": {},
     "output_type": "execute_result"
    }
   ],
   "source": [
    "w = ['a', 'b', 'c', 'd','e','f']\n",
    "q = list(\"abcdef\")\n",
    "# w=q\n",
    "w[-1] == q[0]\n",
    "w[-2] == q[1]\n",
    "w[-3] == q[2]\n",
    "w[-4] == q[3]\n",
    "w[-5] == q[4]\n",
    "w[-6] == q[5]\n",
    "\n",
    "w"
   ]
  },
  {
   "cell_type": "code",
   "execution_count": 4,
   "metadata": {},
   "outputs": [
    {
     "data": {
      "text/plain": [
       "'dcba'"
      ]
     },
     "execution_count": 4,
     "metadata": {},
     "output_type": "execute_result"
    }
   ],
   "source": [
    "w = ['a', 'b', 'c', 'd']\n",
    "q = []\n",
    "\n",
    "q.append(w[-1])\n",
    "q.append(w[-2])\n",
    "q.append(w[-3])\n",
    "q.append(w[-4])\n",
    "q = \"\".join(q)\n",
    "q\n"
   ]
  },
  {
   "cell_type": "code",
   "execution_count": 5,
   "metadata": {},
   "outputs": [
    {
     "data": {
      "text/plain": [
       "['d', 'c', 'b', 'a']"
      ]
     },
     "execution_count": 5,
     "metadata": {},
     "output_type": "execute_result"
    }
   ],
   "source": [
    "w[0],w[1],w[2],w[3] = w[3],w[2],w[1],w[0]\n",
    "w"
   ]
  },
  {
   "cell_type": "code",
   "execution_count": 6,
   "metadata": {},
   "outputs": [
    {
     "data": {
      "text/plain": [
       "['dcba', 'c', 'b', 'a']"
      ]
     },
     "execution_count": 6,
     "metadata": {},
     "output_type": "execute_result"
    }
   ],
   "source": [
    "w[0] = q\n",
    "w\n"
   ]
  },
  {
   "cell_type": "code",
   "execution_count": 30,
   "metadata": {},
   "outputs": [
    {
     "name": "stdout",
     "output_type": "stream",
     "text": [
      "['i am happy', 'i am sad']\n"
     ]
    }
   ],
   "source": [
    "n = int(input(\"문장의 갯수 정해\"))\n",
    "# a = 0 없어도 됨\n",
    "b = []\n",
    "for _ in range(n):\n",
    "    a = input(\"문장 줘\")\n",
    "    # b = b.append(a) \n",
    "    # (처음 썼던 코드 매서드는 값을 반환하려고 하면 none이 떠서 AttributeError: 'NoneType' object has no attribute 'append' 오류가 났다.)\n",
    "    b.append(a)\n",
    "    \n",
    "    \n",
    "print(b)"
   ]
  },
  {
   "cell_type": "code",
   "execution_count": 65,
   "metadata": {},
   "outputs": [
    {
     "name": "stdout",
     "output_type": "stream",
     "text": [
      "[[['i'], ['a', 'm'], ['h', 'a', 'p', 'p', 'y']], [['i'], ['a', 'm'], ['h', 'a', 'p', 'p', 'y'], ['i'], ['a', 'm'], ['s', 'o'], ['s', 'a', 'd']]]\n"
     ]
    }
   ],
   "source": [
    "n = int(input(\"문장의 갯수 정해\"))\n",
    "b = []\n",
    "for _ in range(n):\n",
    "    a = input(\"문장 줘\")\n",
    "    b.append(a) #하나의 리스트에 n개의 문장이 담김\n",
    "    \n",
    "c = []\n",
    "for i in range(n):\n",
    "    c.append(b[i].split()) \n",
    "    # 하나의 리스트에 두개의 리스트가 담김 단어들은 구분됨 ex.[['i', 'am', 'happy'], ['i', 'am', 'sad']]\n",
    "    \n",
    "d = []   \n",
    "for i in range(n):\n",
    "    q = len(c[i])\n",
    "    for l in range(q):\n",
    "        d.append(list(c[i][l]))\n",
    "        # 각 알파벳이 다 나뉨 ex([['i'], ['a', 'm'], ['a', 'n', 'g', 'r', 'y'], ['i'], ['a', 'm'], ['h', 'a', 'p', 'p', 'y']])\n",
    "e = []    \n",
    "for i in range(n):\n",
    "    q = len(c[i])\n",
    "    e.append(q)\n",
    "    # 각 문장의 단어의 갯수를 리스트에 넣음 ex.[3,3]\n",
    "    \n",
    "f = [] \n",
    "total = 0\n",
    "for i in e:\n",
    "    total += i\n",
    "    f.append(total) \n",
    "    # 각 문장의 단어의 갯수를 순서대로 합침\n",
    "    \n",
    "g = []\n",
    "for i in f:\n",
    "    # for l in range(len(f)):\n",
    "        g.append(d[:i])\n",
    "    \n",
    "print(g)\n",
    "# print(n)"
   ]
  },
  {
   "cell_type": "code",
   "execution_count": 34,
   "metadata": {},
   "outputs": [
    {
     "name": "stdout",
     "output_type": "stream",
     "text": [
      "[['i', 'am', 'happy'], ['i', 'am', 'sad']]\n"
     ]
    }
   ],
   "source": [
    "b = ['i am happy', 'i am sad']\n",
    "n = 2\n",
    "c = []\n",
    "\n",
    "for i in range(n):\n",
    "    c.append(b[i].split())\n",
    "\n",
    "print(c)\n"
   ]
  },
  {
   "cell_type": "code",
   "execution_count": 36,
   "metadata": {},
   "outputs": [
    {
     "data": {
      "text/plain": [
       "2"
      ]
     },
     "execution_count": 36,
     "metadata": {},
     "output_type": "execute_result"
    }
   ],
   "source": [
    "len(c[0])"
   ]
  },
  {
   "cell_type": "code",
   "execution_count": null,
   "metadata": {},
   "outputs": [],
   "source": []
  }
 ],
 "metadata": {
  "kernelspec": {
   "display_name": "base",
   "language": "python",
   "name": "python3"
  },
  "language_info": {
   "codemirror_mode": {
    "name": "ipython",
    "version": 3
   },
   "file_extension": ".py",
   "mimetype": "text/x-python",
   "name": "python",
   "nbconvert_exporter": "python",
   "pygments_lexer": "ipython3",
   "version": "3.9.13"
  },
  "orig_nbformat": 4
 },
 "nbformat": 4,
 "nbformat_minor": 2
}
