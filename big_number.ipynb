{
 "cells": [
  {
   "attachments": {},
   "cell_type": "markdown",
   "metadata": {},
   "source": [
    "리스트 안의 큰 숫자 반환하기"
   ]
  },
  {
   "cell_type": "code",
   "execution_count": 4,
   "metadata": {},
   "outputs": [
    {
     "data": {
      "text/plain": [
       "3499"
      ]
     },
     "execution_count": 4,
     "metadata": {},
     "output_type": "execute_result"
    }
   ],
   "source": [
    "l = [32,4,5,654,65,65,65,3,6,8,664,5,65,3499]\n",
    "\n",
    "def big_num(v): # 매개변수가 있는 함수 만들기\n",
    "    n = len(v) # 리스트의 길이를 n에 넣기\n",
    "    max = v[0] # 리스트의 첫번째 값을 max값으로 일단 넣기\n",
    "    \n",
    "    for i in range(1,n): # 1부터 리스트의 길이값 만큼 \n",
    "        if max < v[i]: # max값이 리스트의 다른 값보다 작으면\n",
    "            max = v[i] # max값을 그 값으로 바꾼다.\n",
    "    return max # 최종 max값을 반환한다.\n",
    "\n",
    "big_num(l)\n",
    "        "
   ]
  },
  {
   "attachments": {},
   "cell_type": "markdown",
   "metadata": {},
   "source": [
    "리스트 안 큰 숫자가 있는 위치 반환하기"
   ]
  },
  {
   "cell_type": "code",
   "execution_count": 13,
   "metadata": {},
   "outputs": [
    {
     "data": {
      "text/plain": [
       "13"
      ]
     },
     "execution_count": 13,
     "metadata": {},
     "output_type": "execute_result"
    }
   ],
   "source": [
    "l = [32,4,5,654,6555,65,65,3,6,8,664,5,65,34990]\n",
    "\n",
    "def big_num_ad(v): # 매개변수가 있는 함수 만들기\n",
    "    n = len(v) # 리스트의 길이를 n에 넣기\n",
    "    max = v[0] # 리스트의 첫번째 값을 max값으로 일단 넣기\n",
    "    # max_i = 0 #리스트의 위치값을 초기화(근데 안해도 되네 ㅎ 초기화를 안해도 되는 경우가 따로 있나 왜 해야하지?)\n",
    "    \n",
    "    for i in range(1,n): # 1부터 리스트의 길이값 만큼 \n",
    "        if max < v[i]: # max값이 리스트의 다른 값보다 작으면\n",
    "            max = v[i] # max값을 그 값으로 바꾼다.\n",
    "            max_i = i # 그리고 max의 위치값도 갱신한다.\n",
    "    return max_i # 최종 max_i 값을 반환한다.\n",
    "\n",
    "big_num_ad(l)"
   ]
  },
  {
   "cell_type": "code",
   "execution_count": null,
   "metadata": {},
   "outputs": [],
   "source": []
  }
 ],
 "metadata": {
  "kernelspec": {
   "display_name": "base",
   "language": "python",
   "name": "python3"
  },
  "language_info": {
   "codemirror_mode": {
    "name": "ipython",
    "version": 3
   },
   "file_extension": ".py",
   "mimetype": "text/x-python",
   "name": "python",
   "nbconvert_exporter": "python",
   "pygments_lexer": "ipython3",
   "version": "3.9.13"
  },
  "orig_nbformat": 4
 },
 "nbformat": 4,
 "nbformat_minor": 2
}
